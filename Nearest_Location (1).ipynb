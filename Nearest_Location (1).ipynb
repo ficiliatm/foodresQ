{
  "nbformat": 4,
  "nbformat_minor": 0,
  "metadata": {
    "colab": {
      "provenance": []
    },
    "kernelspec": {
      "name": "python3",
      "display_name": "Python 3"
    },
    "language_info": {
      "name": "python"
    }
  },
  "cells": [
    {
      "cell_type": "code",
      "execution_count": 19,
      "metadata": {
        "colab": {
          "base_uri": "https://localhost:8080/"
        },
        "id": "9sFxRKt4_MNT",
        "outputId": "76d26d15-2f74-4fb2-df19-52c541152b3c"
      },
      "outputs": [
        {
          "output_type": "stream",
          "name": "stdout",
          "text": [
            "Epoch 1/10\n",
            "4/4 [==============================] - 3s 264ms/step - loss: 0.9028 - accuracy: 0.5327 - val_loss: 1.0167 - val_accuracy: 0.7500\n",
            "Epoch 2/10\n",
            "4/4 [==============================] - 0s 40ms/step - loss: 0.7161 - accuracy: 0.8411 - val_loss: 0.7988 - val_accuracy: 0.9167\n",
            "Epoch 3/10\n",
            "4/4 [==============================] - 0s 48ms/step - loss: 0.5599 - accuracy: 0.9813 - val_loss: 0.6177 - val_accuracy: 1.0000\n",
            "Epoch 4/10\n",
            "4/4 [==============================] - 0s 42ms/step - loss: 0.4240 - accuracy: 0.9907 - val_loss: 0.4657 - val_accuracy: 1.0000\n",
            "Epoch 5/10\n",
            "4/4 [==============================] - 0s 46ms/step - loss: 0.3121 - accuracy: 1.0000 - val_loss: 0.3392 - val_accuracy: 1.0000\n",
            "Epoch 6/10\n",
            "4/4 [==============================] - 0s 32ms/step - loss: 0.2213 - accuracy: 1.0000 - val_loss: 0.2332 - val_accuracy: 1.0000\n",
            "Epoch 7/10\n",
            "4/4 [==============================] - 0s 63ms/step - loss: 0.1512 - accuracy: 1.0000 - val_loss: 0.1487 - val_accuracy: 1.0000\n",
            "Epoch 8/10\n",
            "4/4 [==============================] - 0s 64ms/step - loss: 0.0936 - accuracy: 1.0000 - val_loss: 0.0913 - val_accuracy: 1.0000\n",
            "Epoch 9/10\n",
            "4/4 [==============================] - 0s 58ms/step - loss: 0.0604 - accuracy: 1.0000 - val_loss: 0.0548 - val_accuracy: 0.9167\n",
            "Epoch 10/10\n",
            "4/4 [==============================] - 0s 31ms/step - loss: 0.0397 - accuracy: 0.9907 - val_loss: 0.0330 - val_accuracy: 0.9167\n",
            "1/1 [==============================] - 0s 125ms/step\n",
            "Mean Squared Error on Test Set: 0.03218783876444039\n",
            "Nearest locations to (-6.8798526, 107.6114894):\n",
            "Resto Name : Parc C Smoke, Sei, Grill & Coffee | Latitude: -6.8824765999999995, Longitude: 107.6137136\n",
            "Resto Name : Kapulaga Indonesian Bistro | Latitude: -6.887777799999999, Longitude: 107.6125\n",
            "Resto Name : Ndalem Katresnan Bukit Jarian | Latitude: -6.8790755, Longitude: 107.60713899999999\n",
            "Resto Name : Ekara Coffee & Eatery | Latitude: -6.8770583, Longitude: 107.6069692\n",
            "Resto Name : Warung Nasi Ibu Irah | Latitude: -6.8727035, Longitude: 107.6084578\n",
            "Resto Name : Miss Bee Providore | Latitude: -6.8729703, Longitude: 107.6069294\n",
            "Resto Name : Porto Bistreau | Latitude: -6.8678826, Longitude: 107.6100733\n",
            "Resto Name : Queen Legend Restaurant | Latitude: -6.880820099999999, Longitude: 107.6048895\n",
            "Resto Name : Bakmie Sam's Strawberry Corner | Latitude: -6.8921597, Longitude: 107.6135325\n",
            "Resto Name : Tuscany’s Restaurant | Latitude: -6.8805841, Longitude: 107.6184006\n"
          ]
        }
      ],
      "source": [
        "import pandas as pd\n",
        "import numpy as np\n",
        "import tensorflow as tf\n",
        "from sklearn.model_selection import train_test_split\n",
        "from sklearn.preprocessing import StandardScaler\n",
        "from sklearn.metrics import mean_squared_error\n",
        "from sklearn.neighbors import NearestNeighbors\n",
        "\n",
        "# Load the dataset\n",
        "github_url = 'https://github.com/ficiliatm/foodresQ/raw/main/Location_Dataset.xlsx'\n",
        "df = pd.read_excel(github_url, engine='openpyxl')\n",
        "\n",
        "X = df[['Latitude', 'Longitude']].values\n",
        "\n",
        "# Standardize the input data\n",
        "scaler = StandardScaler()\n",
        "X_scaled = scaler.fit_transform(X)\n",
        "\n",
        "model = tf.keras.models.Sequential([\n",
        "    tf.keras.layers.Input(shape=(2,)),\n",
        "    tf.keras.layers.Dense(128, activation='relu'),\n",
        "    tf.keras.layers.Dense(64, activation='relu'),\n",
        "    tf.keras.layers.Dense(2, activation='linear')  # Output layer with 2 neurons for latitude and longitude\n",
        "])\n",
        "\n",
        "model.compile(optimizer='adam', loss='mse', metrics='accuracy')  # Using Mean Squared Error as loss for regression\n",
        "\n",
        "# Split the data into training and testing sets\n",
        "X_train, X_test = train_test_split(X_scaled, test_size=0.2, random_state=42)\n",
        "\n",
        "# Train the model\n",
        "model.fit(X_train, X_train, epochs=10, batch_size=32, validation_split=0.1, verbose=1)\n",
        "\n",
        "# Make predictions on the test set\n",
        "predictions = model.predict(X_test)\n",
        "\n",
        "# Evaluate the model\n",
        "mse = mean_squared_error(X_test, predictions)\n",
        "print(f'Mean Squared Error on Test Set: {mse}')\n",
        "\n",
        "# Use Nearest Neighbors to find the nearest locations\n",
        "neigh = NearestNeighbors(n_neighbors=10)\n",
        "neigh.fit(X_scaled)\n",
        "\n",
        "# Test 10 nearest neighbors\n",
        "query_location = np.array([[-6.8798526, 107.6114894]])\n",
        "query_location_scaled = scaler.transform(query_location)\n",
        "distances, indices = neigh.kneighbors(query_location_scaled)\n",
        "\n",
        "# Print the nearest locations\n",
        "print(f\"Nearest locations to ({-6.8798526}, {107.6114894}):\")\n",
        "for index in indices[0]:\n",
        "    print(f\"Resto Name : {df.iloc[index]['Place_name']} | Latitude: {df.iloc[index]['Latitude']}, Longitude: {df.iloc[index]['Longitude']}\")"
      ]
    },
    {
      "cell_type": "code",
      "source": [
        "model.save('foodresq_model.h5')"
      ],
      "metadata": {
        "colab": {
          "base_uri": "https://localhost:8080/"
        },
        "id": "i5b0g1iOcoS1",
        "outputId": "a6ed20a6-c179-4eeb-dbec-a8650da61245"
      },
      "execution_count": 21,
      "outputs": [
        {
          "output_type": "stream",
          "name": "stderr",
          "text": [
            "/usr/local/lib/python3.10/dist-packages/keras/src/engine/training.py:3103: UserWarning: You are saving your model as an HDF5 file via `model.save()`. This file format is considered legacy. We recommend using instead the native Keras format, e.g. `model.save('my_model.keras')`.\n",
            "  saving_api.save_model(\n"
          ]
        }
      ]
    }
  ]
}